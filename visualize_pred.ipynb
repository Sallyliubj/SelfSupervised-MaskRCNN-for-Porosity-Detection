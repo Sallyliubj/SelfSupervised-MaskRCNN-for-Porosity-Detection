{
 "cells": [
  {
   "cell_type": "code",
   "execution_count": null,
   "metadata": {},
   "outputs": [],
   "source": [
    "import matplotlib.pyplot as plt\n",
    "from torchvision import transforms\n",
    "import torchvision.transforms.functional as F\n",
    "import skimage.io as skio\n",
    "import numpy as np\n",
    "import skimage\n",
    "import os\n",
    "import torch\n",
    "import torchvision\n",
    "import torchvision.transforms as T\n",
    "from torchvision.models.detection import maskrcnn_resnet50_fpn\n",
    "from torchvision.models.detection import MaskRCNN_ResNet50_FPN_Weights\n",
    "from torch.utils.data import DataLoader, Dataset\n",
    "from pycocotools.coco import COCO\n",
    "import numpy\n",
    "from PIL import Image\n",
    "\n",
    "torch.set_num_threads(4)\n",
    "torch.set_num_interop_threads(4)\n",
    "\n",
    "# Root directory of the project\n",
    "ROOT_DIR = os.getcwd()\n",
    "print(ROOT_DIR)\n",
    "# Directory of images to run detection on\n",
    "DATA_DIR = os.path.join(ROOT_DIR, \"Reinforcement\")\n",
    "print(DATA_DIR)\n",
    "# Directory to save logs and trained model\n",
    "MODEL_DIR = os.path.join(DATA_DIR, \"logs\")\n",
    "print(MODEL_DIR)"
   ]
  },
  {
   "cell_type": "code",
   "execution_count": null,
   "metadata": {},
   "outputs": [],
   "source": [
    "%load_ext autoreload\n",
    "%autoreload 2"
   ]
  },
  {
   "cell_type": "markdown",
   "metadata": {},
   "source": [
    "### Load Trained Model"
   ]
  },
  {
   "cell_type": "code",
   "execution_count": null,
   "metadata": {},
   "outputs": [],
   "source": [
    "from inspect_model import load_trained_model\n",
    "from coco_json import process_masks\n",
    "from train_pytorch import ForamPoreDataset, Compose, RandomHorizontalFlip\n",
    "from train_pytorch import get_transform\n",
    "from inspect_model import visualize_prediction, visualize_dataset"
   ]
  },
  {
   "cell_type": "code",
   "execution_count": null,
   "metadata": {},
   "outputs": [],
   "source": [
    "# Load the model from a specific training checkpoint\n",
    "loop = 3 # adjust if needed\n",
    "epoch = 10 # adjust if needed\n",
    "\n",
    "device = torch.device('cuda' if torch.cuda.is_available() else 'cpu')\n",
    "model_path = os.path.join(MODEL_DIR, f\"loop_{loop}/model_epoch_{epoch}.pt\")\n",
    "\n",
    "model, optimizer, lr_scheduler = load_trained_model(model_path, device)\n",
    "model.eval()"
   ]
  },
  {
   "cell_type": "markdown",
   "metadata": {},
   "source": [
    "### Load the Train and Test Dataset"
   ]
  },
  {
   "cell_type": "code",
   "execution_count": null,
   "metadata": {},
   "outputs": [],
   "source": [
    "train_root = os.path.join(ROOT_DIR, 'train')\n",
    "train_annotation = os.path.join(train_root, 'via_region_data.json')\n",
    "dataset_train = ForamPoreDataset(train_root, train_annotation, get_transform(train=True))\n",
    "\n",
    "test_root = os.path.join(ROOT_DIR, 'test')\n",
    "test_annotation = os.path.join(test_root, 'via_region_data.json')\n",
    "dataset_test = ForamPoreDataset(test_root, test_annotation, get_transform(train=False))"
   ]
  },
  {
   "cell_type": "markdown",
   "metadata": {},
   "source": [
    "### Visualize Predictions on Train Images"
   ]
  },
  {
   "cell_type": "code",
   "execution_count": null,
   "metadata": {},
   "outputs": [],
   "source": [
    "idx = 3\n",
    "# Load an image\n",
    "image, _ = dataset_train[idx] # torch.Tensor, float32, [C, H, W]\n",
    "# Normalize the image to [0,1] float32, for prediction\n",
    "image = ((image-image.min())/(image.max()-image.min())).float()\n",
    "\n",
    "# Add a batch dim for prediction\n",
    "image_tensor = image.unsqueeze(0).to(device)  # Add batch dimension\n",
    "\n",
    "# Prediction on the image\n",
    "model.eval()\n",
    "with torch.no_grad():\n",
    "    predictions = model(image_tensor)\n",
    "\n",
    "visualize_prediction(image, predictions)"
   ]
  },
  {
   "cell_type": "markdown",
   "metadata": {},
   "source": [
    "#### Compare with the original good pores mask"
   ]
  },
  {
   "cell_type": "code",
   "execution_count": null,
   "metadata": {},
   "outputs": [],
   "source": [
    "visualize_dataset(dataset_train, idx = idx)"
   ]
  },
  {
   "cell_type": "markdown",
   "metadata": {},
   "source": [
    "### Visualize Predictions on Test Images"
   ]
  },
  {
   "cell_type": "code",
   "execution_count": null,
   "metadata": {},
   "outputs": [],
   "source": [
    "idx = 1\n",
    "# Load an image\n",
    "image, _ = dataset_test[idx] # torch.Tensor, float32, [C, H, W]\n",
    "\n",
    "# Normalize the image to [0,1] float32, for prediction\n",
    "image = ((image-image.min())/(image.max()-image.min())).float() \n",
    "\n",
    "# Add a batch dim for prediction\n",
    "image_tensor = image.unsqueeze(0).to(device)  # Add batch dimension\n",
    "\n",
    "# Prediction on the image\n",
    "model.eval()\n",
    "with torch.no_grad():\n",
    "    predictions = model(image_tensor)\n",
    "\n",
    "visualize_prediction(image, predictions)"
   ]
  },
  {
   "cell_type": "markdown",
   "metadata": {},
   "source": [
    "#### Compare with the ground truth"
   ]
  },
  {
   "cell_type": "code",
   "execution_count": null,
   "metadata": {},
   "outputs": [],
   "source": [
    "from inspect_model import visualize_dataset\n",
    "visualize_dataset(dataset_test, idx = idx)"
   ]
  }
 ],
 "metadata": {
  "kernelspec": {
   "display_name": "maskrcnn_pytorch",
   "language": "python",
   "name": "python3"
  },
  "language_info": {
   "name": "python",
   "version": "3.12.4"
  }
 },
 "nbformat": 4,
 "nbformat_minor": 2
}
